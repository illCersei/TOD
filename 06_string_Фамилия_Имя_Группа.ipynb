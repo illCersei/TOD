{
 "cells": [
  {
   "cell_type": "markdown",
   "metadata": {},
   "source": [
    "# Работа со строковыми значениями"
   ]
  },
  {
   "cell_type": "markdown",
   "metadata": {},
   "source": [
    "__Автор задач: Блохин Н.В. (NVBlokhin@fa.ru)__\n",
    "\n",
    "Материалы:\n",
    "* Макрушин С.В. Лекция \"Работа со строковыми значениям\"\n",
    "* https://pyformat.info/\n",
    "* https://docs.python.org/3/library/re.html\n",
    "    * https://docs.python.org/3/library/re.html#flags\n",
    "    * https://docs.python.org/3/library/re.html#functions\n",
    "* https://pythonru.com/primery/primery-primeneniya-regulyarnyh-vyrazheniy-v-python\n",
    "* https://kanoki.org/2019/11/12/how-to-use-regex-in-pandas/\n",
    "* https://realpython.com/nltk-nlp-python/"
   ]
  },
  {
   "cell_type": "markdown",
   "metadata": {},
   "source": [
    "## Задачи для совместного разбора"
   ]
  },
  {
   "cell_type": "markdown",
   "metadata": {},
   "source": [
    "1. Вывести на экран данные из словаря `obj` построчно в виде `k = v`, задав формат таким образом, чтобы знак равенства оказался на одной и той же позиции во всех строках. Строковые литералы обернуть в кавычки."
   ]
  },
  {
   "cell_type": "code",
   "execution_count": null,
   "metadata": {},
   "outputs": [],
   "source": []
  },
  {
   "cell_type": "markdown",
   "metadata": {},
   "source": [
    "2. Написать регулярное выражение,которое позволит найти номера групп студентов."
   ]
  },
  {
   "cell_type": "code",
   "execution_count": null,
   "metadata": {},
   "outputs": [],
   "source": []
  },
  {
   "cell_type": "markdown",
   "metadata": {},
   "source": [
    "3. Разбейте текст формулировки задачи 2 на слова."
   ]
  },
  {
   "cell_type": "markdown",
   "metadata": {},
   "source": [
    "## Лабораторная работа 6"
   ]
  },
  {
   "cell_type": "markdown",
   "metadata": {},
   "source": [
    "### Форматирование строк"
   ]
  },
  {
   "cell_type": "markdown",
   "metadata": {},
   "source": [
    "1\\. Загрузите данные из файла `recipes_sample.csv` (__ЛР2__) в виде `pd.DataFrame` `recipes` При помощи форматирования строк выведите информацию об id рецепта и времени выполнения 5 случайных рецептов в виде таблицы следующего вида:\n",
    "\n",
    "    \n",
    "    |      id      |  minutes  |\n",
    "    |--------------------------|\n",
    "    |    61178     |    65     |\n",
    "    |    202352    |    80     |\n",
    "    |    364322    |    150    |\n",
    "    |    26177     |    20     |\n",
    "    |    224785    |    35     |\n",
    "    \n",
    "Обратите внимание, что ширина столбцов заранее неизвестна и должна рассчитываться динамически, в зависимости от тех данных, которые были выбраны. "
   ]
  },
  {
   "cell_type": "code",
   "execution_count": 5,
   "metadata": {},
   "outputs": [
    {
     "name": "stdout",
     "output_type": "stream",
     "text": [
      "|   id   | minutes |\n",
      "|--------|---------|\n",
      "| 78715  |   160   |\n",
      "| 174859 |    65   |\n",
      "| 301114 |    70   |\n",
      "| 516384 |    35   |\n",
      "| 95541  |   106   |\n"
     ]
    }
   ],
   "source": [
    "import pandas as pd\n",
    "\n",
    "# Загрузка данных из файла\n",
    "recipes = pd.read_csv('recipes_sample.csv', index_col=False)\n",
    "\n",
    "# Выбор 5 случайных рецепфтов\n",
    "random_recipes = recipes[['id', 'minutes']].sample(n=5, random_state=1)\n",
    "\n",
    "# Функция для форматирования и печати таблицы\n",
    "def print_table(dataframe):\n",
    "    # Вычисляем ширину столбцов\n",
    "    max_id_width = max(dataframe['id'].astype(str).apply(len).max(), len('id'))\n",
    "    max_minutes_width = max(dataframe['minutes'].astype(str).apply(len).max(), len('minutes'))\n",
    "    \n",
    "    # Форматирование заголовка\n",
    "    header = f\"| {'id'.center(max_id_width)} | {'minutes'.center(max_minutes_width)} |\"\n",
    "    separator = f\"|{'-' * (max_id_width + 2)}|{'-' * (max_minutes_width + 2)}|\"\n",
    "    \n",
    "    # Форматирование строк\n",
    "    rows = [\n",
    "        f\"| {str(row['id']).center(max_id_width)} | {str(row['minutes']).center(max_minutes_width)} |\"\n",
    "        for _, row in dataframe.iterrows()\n",
    "    ]\n",
    "    \n",
    "    # Печать таблицы\n",
    "    print(header)\n",
    "    print(separator)\n",
    "    for row in rows:\n",
    "        print(row)\n",
    "\n",
    "# Печать таблицы с 5 случайными рецептами\n",
    "print_table(random_recipes)\n"
   ]
  },
  {
   "cell_type": "markdown",
   "metadata": {},
   "source": [
    "2\\. Напишите функцию `show_info`, которая по данным о рецепте создает строку (в смысле объекта python) с описанием следующего вида:\n",
    "\n",
    "```\n",
    "\"Название Из Нескольких Слов\"\n",
    "\n",
    "1. Шаг 1\n",
    "2. Шаг 2\n",
    "----------\n",
    "Автор: contributor_id\n",
    "Среднее время приготовления: minutes минут\n",
    "```\n",
    "\n",
    "    \n",
    "Данные для создания строки получите из файлов `recipes_sample.csv` (__ЛР2__) и `steps_sample.xml` (__ЛР3__). \n",
    "Вызовите данную функцию для рецепта с id `170895` и выведите (через `print`) полученную строку на экран."
   ]
  },
  {
   "cell_type": "code",
   "execution_count": 6,
   "metadata": {},
   "outputs": [
    {
     "name": "stdout",
     "output_type": "stream",
     "text": [
      "leeks and parsnips  sauteed or creamed\n",
      "\n",
      "1. clean the leeks and discard the dark green portions\n",
      "2. cut the leeks lengthwise then into one-inch pieces\n",
      "3. melt the butter in a medium skillet , med\n",
      "4. heat\n",
      "5. add the garlic and fry 'til fragrant\n",
      "6. add leeks and fry until the leeks are tender , about 6-minutes\n",
      "7. meanwhile , peel and chunk the parsnips into one-inch pieces\n",
      "8. place in a steaming basket and steam 'til they are as tender as you prefer\n",
      "9. i like them fork-tender\n",
      "10. drain parsnips and add to the skillet with the leeks\n",
      "11. add salt and pepper\n",
      "12. gently sautee together for 5-minutes\n",
      "13. at this point you can serve it , or continue on and cream it:\n",
      "14. in a jar with a screw top , add the half-n-half and arrowroot\n",
      "15. shake 'til blended\n",
      "16. turn heat to low under the leeks and parsnips\n",
      "17. pour in the arrowroot mixture , stirring gently as you pour\n",
      "18. if too thick , gradually add the water\n",
      "19. let simmer for a couple of minutes\n",
      "20. taste to adjust seasoning , probably an additional 1 / 2 teaspoon salt\n",
      "21. serve warm\n",
      "----------\n",
      "Автор: 8377\n",
      "Среднее время приготовления: 27 минут\n"
     ]
    }
   ],
   "source": [
    "import xml.etree.ElementTree as ET\n",
    "\n",
    "tree = ET.parse('steps_sample.xml')\n",
    "root = tree.getroot()\n",
    "\n",
    "def show_info(recipe_id):\n",
    "    # Поиск рецепта в данных\n",
    "    recipe = recipes[recipes['id'] == recipe_id].iloc[0]\n",
    "    \n",
    "    # Поиск шагов в XML\n",
    "    steps = []\n",
    "    for recipe_elem in root.findall('recipe'):\n",
    "        if int(recipe_elem.find('id').text) == recipe_id:\n",
    "            for step in recipe_elem.find('steps').findall('step'):\n",
    "                steps.append(step.text)\n",
    "            break\n",
    "    \n",
    "    # Формирование строки с описанием\n",
    "    recipe_info = f\"{recipe['name']}\\n\\n\"\n",
    "    for i, step in enumerate(steps, 1):\n",
    "        recipe_info += f\"{i}. {step}\\n\"\n",
    "    recipe_info += \"----------\\n\"\n",
    "    recipe_info += f\"Автор: {recipe['contributor_id']}\\n\"\n",
    "    recipe_info += f\"Среднее время приготовления: {recipe['minutes']} минут\"\n",
    "    \n",
    "    return recipe_info\n",
    "\n",
    "# Вызов функции для рецепта с id 170895 и вывод на экран\n",
    "recipe_description = show_info(170895)\n",
    "print(recipe_description)\n"
   ]
  },
  {
   "cell_type": "markdown",
   "metadata": {},
   "source": [
    "## Работа с регулярными выражениями"
   ]
  },
  {
   "cell_type": "markdown",
   "metadata": {},
   "source": [
    "3\\. Напишите регулярное выражение, которое ищет следующий паттерн в строке: число (1 цифра или более), затем пробел, затем слова: hour или hours или minute или minutes. Произведите поиск по данному регулярному выражению в каждом шаге рецепта с id 25082. Выведите на экран все непустые результаты, найденные по данному шаблону."
   ]
  },
  {
   "cell_type": "code",
   "execution_count": 7,
   "metadata": {},
   "outputs": [
    {
     "name": "stdout",
     "output_type": "stream",
     "text": [
      "20 minutes\n",
      "10 minutes\n",
      "2 hours\n",
      "10 minutes\n",
      "20 minutes\n",
      "30 minutes\n"
     ]
    }
   ],
   "source": [
    "import re\n",
    "import pandas as pd\n",
    "import xml.etree.ElementTree as ET\n",
    "\n",
    "# Загрузка данных из файла recipes_sample.csv\n",
    "recipes = pd.read_csv('recipes_sample.csv', index_col=False)\n",
    "\n",
    "# Загрузка данных из файла steps_sample.xml\n",
    "tree = ET.parse('steps_sample.xml')\n",
    "root = tree.getroot()\n",
    "\n",
    "# Регулярное выражение для поиска числа и единиц времени\n",
    "time_pattern = re.compile(r'\\b(\\d+)\\s+(hour|hours|minute|minutes)\\b')\n",
    "\n",
    "# Поиск шагов для рецепта с id 25082\n",
    "recipe_id = 25082\n",
    "steps = []\n",
    "for recipe_elem in root.findall('recipe'):\n",
    "    if int(recipe_elem.find('id').text) == recipe_id:\n",
    "        for step in recipe_elem.find('steps').findall('step'):\n",
    "            steps.append(step.text)\n",
    "        break\n",
    "\n",
    "# Поиск паттернов в каждом шаге\n",
    "results = []\n",
    "for step in steps:\n",
    "    matches = time_pattern.findall(step)\n",
    "    if matches:\n",
    "        results.extend(matches)\n",
    "\n",
    "# Вывод всех непустых результатов с числами\n",
    "for result in results:\n",
    "    print(' '.join(result))\n"
   ]
  },
  {
   "cell_type": "markdown",
   "metadata": {},
   "source": [
    "4\\. Напишите регулярное выражение, которое ищет шаблон вида \"this..., but\" _в начале строки_ . Между словом \"this\" и частью \", but\" может находиться произвольное число букв, цифр, знаков подчеркивания и пробелов. Никаких других символов вместо многоточия быть не может. Пробел между запятой и словом \"but\" может присутствовать или отсутствовать.\n",
    "\n",
    "Используя строковые методы `pd.Series`, выясните, для каких рецептов данный шаблон содержится в тексте описания. Выведите на экран количество таких рецептов и 3 примера подходящих описаний (текст описания должен быть виден на экране полностью)."
   ]
  },
  {
   "cell_type": "code",
   "execution_count": 8,
   "metadata": {},
   "outputs": [
    {
     "name": "stdout",
     "output_type": "stream",
     "text": [
      "Количество подходящих рецептов: 0\n",
      "Три примера подходящих описаний:\n"
     ]
    }
   ],
   "source": [
    "import pandas as pd\n",
    "\n",
    "# Загрузка данных из файла\n",
    "recipes = pd.read_csv('recipes_sample.csv', index_col=False)\n",
    "\n",
    "# Регулярное выражение для поиска шаблона\n",
    "pattern = re.compile(r'^this\\.\\.\\.,[\\w\\s]*but', re.IGNORECASE)\n",
    "\n",
    "# Функция для поиска шаблона в строке\n",
    "def find_pattern(description):\n",
    "    if pd.isna(description):\n",
    "        return False\n",
    "    return bool(pattern.match(description))\n",
    "\n",
    "# Применение функции к столбцу 'description'\n",
    "matching_recipes = recipes[recipes['description'].apply(find_pattern)]\n",
    "\n",
    "# Количество подходящих рецептов\n",
    "count_matching_recipes = matching_recipes.shape[0]\n",
    "\n",
    "# Три примера подходящих описаний\n",
    "examples = matching_recipes['description'].head(3).tolist()\n",
    "\n",
    "# Вывод результатов\n",
    "print(f\"Количество подходящих рецептов: {count_matching_recipes}\")\n",
    "print(\"Три примера подходящих описаний:\")\n",
    "for example in examples:\n",
    "    print(f\"- {example}\")\n",
    "#Такого рецепта нет??"
   ]
  },
  {
   "cell_type": "markdown",
   "metadata": {},
   "source": [
    "5\\. В текстах шагов рецептов обыкновенные дроби имеют вид \"a / b\". Используя регулярные выражения, уберите в тексте шагов рецепта с id 72367 пробелы до и после символа дроби. Выведите на экран шаги этого рецепта после их изменения."
   ]
  },
  {
   "cell_type": "code",
   "execution_count": 9,
   "metadata": {},
   "outputs": [
    {
     "name": "stdout",
     "output_type": "stream",
     "text": [
      "Шаги рецепта с id 72367 после изменения:\n",
      "mix butter , flour , 1/3 c\n",
      "sugar and 1-1/4 t\n",
      "vanilla\n",
      "press into greased 9\" springform pan\n",
      "mix cream cheese , 1/4 c\n",
      "sugar , eggs and 1/2 t\n",
      "vanilla beating until fluffy\n",
      "pour over dough\n",
      "combine apples , 1/3 c\n",
      "sugar and cinnamon\n",
      "arrange on top of cream cheese mixture and sprinkle with almonds\n",
      "bake at 350 for 45-55 minutes , or until tester comes out clean\n"
     ]
    }
   ],
   "source": [
    "tree = ET.parse('steps_sample.xml')\n",
    "root = tree.getroot()\n",
    "\n",
    "# Регулярное выражение для удаления пробелов вокруг символа дроби\n",
    "fraction_pattern = re.compile(r'\\s*/\\s*')\n",
    "\n",
    "# Поиск шагов для рецепта с id 72367\n",
    "recipe_id = 72367\n",
    "steps = []\n",
    "for recipe_elem in root.findall('recipe'):\n",
    "    if int(recipe_elem.find('id').text) == recipe_id:\n",
    "        for step in recipe_elem.find('steps').findall('step'):\n",
    "            steps.append(step.text)\n",
    "        break\n",
    "\n",
    "# Удаление пробелов вокруг символа дроби в каждом шаге\n",
    "modified_steps = [fraction_pattern.sub('/', step) for step in steps]\n",
    "\n",
    "# Вывод шагов после их изменения\n",
    "print(\"Шаги рецепта с id 72367 после изменения:\")\n",
    "for step in modified_steps:\n",
    "    print(step)\n"
   ]
  },
  {
   "cell_type": "markdown",
   "metadata": {},
   "source": [
    "### Сегментация текста"
   ]
  },
  {
   "cell_type": "markdown",
   "metadata": {},
   "source": [
    "6\\. Разбейте тексты шагов рецептов на слова при помощи пакета `nltk`. Посчитайте и выведите на экран кол-во уникальных слов среди всех рецептов. Словом называется любая последовательность алфавитных символов (для проверки можно воспользоваться `str.isalpha`). При подсчете количества уникальных слов не учитывайте регистр."
   ]
  },
  {
   "cell_type": "code",
   "execution_count": 10,
   "metadata": {},
   "outputs": [
    {
     "name": "stdout",
     "output_type": "stream",
     "text": [
      "Количество уникальных слов: 14926\n"
     ]
    }
   ],
   "source": [
    "from nltk.tokenize import word_tokenize\n",
    "\n",
    "# Загрузка данных из файла steps_sample.xml\n",
    "tree = ET.parse('steps_sample.xml')\n",
    "root = tree.getroot()\n",
    "\n",
    "# Сбор всех шагов рецептов в один список\n",
    "all_steps = []\n",
    "for recipe_elem in root.findall('recipe'):\n",
    "    for step in recipe_elem.find('steps').findall('step'):\n",
    "        all_steps.append(step.text)\n",
    "\n",
    "# Токенизация и фильтрация только алфавитных слов, приведение к нижнему регистру\n",
    "all_words = []\n",
    "for step in all_steps:\n",
    "    words = word_tokenize(step)\n",
    "    words = [word.lower() for word in words if word.isalpha()]\n",
    "    all_words.extend(words)\n",
    "\n",
    "# Подсчет уникальных слов\n",
    "unique_words = set(all_words)\n",
    "print(f\"Количество уникальных слов: {len(unique_words)}\")\n"
   ]
  },
  {
   "cell_type": "markdown",
   "metadata": {},
   "source": [
    "7\\. Разбейте описания рецептов из `recipes` на предложения при помощи пакета `nltk`. Найдите 5 самых длинных описаний (по количеству _предложений_) рецептов в датасете и выведите строки фрейма, соответствующие этим рецептами, в порядке убывания длины."
   ]
  },
  {
   "cell_type": "code",
   "execution_count": 11,
   "metadata": {},
   "outputs": [
    {
     "name": "stdout",
     "output_type": "stream",
     "text": [
      "           id                                        description  \\\n",
      "18408  334113  this wonderful icing is used for icing cakes a...   \n",
      "481    287008  a translucent golden-brown crust allows the gr...   \n",
      "22566  328708  this is one of the best soups i've ever made a...   \n",
      "6779   205348  i wrote this because there are an astounding l...   \n",
      "16296  316000  the first time i made this cake i grated a mil...   \n",
      "\n",
      "       sentence_count  \n",
      "18408              76  \n",
      "481                27  \n",
      "22566              24  \n",
      "6779               23  \n",
      "16296              23  \n"
     ]
    }
   ],
   "source": [
    "from nltk.tokenize import sent_tokenize\n",
    "\n",
    "# Загрузка данных из файла recipes_sample.csv\n",
    "recipes = pd.read_csv('recipes_sample.csv', index_col=False)\n",
    "\n",
    "# Функция для подсчета количества предложений в описании\n",
    "def count_sentences(description):\n",
    "    if pd.isna(description):\n",
    "        return 0\n",
    "    sentences = sent_tokenize(description)\n",
    "    return len(sentences)\n",
    "\n",
    "# Применение функции к столбцу 'description'\n",
    "recipes['sentence_count'] = recipes['description'].apply(count_sentences)\n",
    "\n",
    "# Нахождение 5 самых длинных описаний по количеству предложений\n",
    "longest_descriptions = recipes.nlargest(5, 'sentence_count')\n",
    "\n",
    "# Вывод строк фрейма, соответствующих этим рецептам\n",
    "print(longest_descriptions[['id', 'description', 'sentence_count']])\n"
   ]
  },
  {
   "cell_type": "markdown",
   "metadata": {},
   "source": [
    "8\\. Напишите функцию, которая для заданного предложения выводит информацию о частях речи слов, входящих в предложение, в следующем виде:\n",
    "```\n",
    "PRP   VBD   DT      NNS     CC   VBD      NNS        RB   \n",
    " I  omitted the raspberries and added strawberries instead\n",
    "``` \n",
    "Для определения части речи слова можно воспользоваться `nltk.pos_tag`.\n",
    "\n",
    "Проверьте работоспособность функции на названии рецепта с id 241106.\n",
    "\n",
    "Обратите внимание, что часть речи должна находиться ровно посередине над соотвествующим словом, а между самими словами должен быть ровно один пробел.\n"
   ]
  },
  {
   "cell_type": "code",
   "execution_count": 12,
   "metadata": {},
   "outputs": [
    {
     "name": "stdout",
     "output_type": "stream",
     "text": [
      "JJ        NNS       IN        NNS       VBP       JJ        CC        JJ        NNS\n",
      "eggplant  steaks    with      chickpeas feta      cheese    and       black     olives\n"
     ]
    }
   ],
   "source": [
    "from nltk import pos_tag\n",
    "\n",
    "# Функция для определения частей речи и форматирования вывода\n",
    "def print_pos_tags(sentence):\n",
    "    tokens = word_tokenize(sentence)\n",
    "    pos_tags = pos_tag(tokens)\n",
    "    \n",
    "    # Определение максимальной длины слова для выравнивания\n",
    "    max_word_length = max(len(word) for word, _ in pos_tags)\n",
    "    \n",
    "    # Форматирование вывода\n",
    "    pos_line = \"\"\n",
    "    word_line = \"\"\n",
    "    for word, pos in pos_tags:\n",
    "        pos_line += f\"{pos:^{max_word_length}} \"  # Центрируем POS над словом\n",
    "        word_line += f\"{word:<{max_word_length}} \"  # Левый отступ для слов\n",
    "    \n",
    "    print(pos_line.strip())  # Убираем последний пробел\n",
    "    print(word_line.strip())  # Убираем последний пробел\n",
    "\n",
    "# Проверка функции на названии рецепта с id 241106\n",
    "recipe_id = 241106\n",
    "recipe_name = recipes[recipes['id'] == recipe_id]['name'].values[0]\n",
    "print_pos_tags(recipe_name)\n"
   ]
  }
 ],
 "metadata": {
  "kernelspec": {
   "display_name": "Python 3 (ipykernel)",
   "language": "python",
   "name": "python3"
  },
  "language_info": {
   "codemirror_mode": {
    "name": "ipython",
    "version": 3
   },
   "file_extension": ".py",
   "mimetype": "text/x-python",
   "name": "python",
   "nbconvert_exporter": "python",
   "pygments_lexer": "ipython3",
   "version": "3.11.5"
  }
 },
 "nbformat": 4,
 "nbformat_minor": 4
}
