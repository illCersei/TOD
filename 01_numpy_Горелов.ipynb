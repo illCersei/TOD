{
 "cells": [
  {
   "cell_type": "markdown",
   "metadata": {},
   "source": [
    "# Numpy"
   ]
  },
  {
   "cell_type": "markdown",
   "metadata": {},
   "source": [
    "Материалы:\n",
    "* Макрушин С.В. \"Лекция 1: Библиотека Numpy\"\n",
    "* https://numpy.org/doc/stable/user/index.html\n",
    "* https://numpy.org/doc/stable/reference/index.html"
   ]
  },
  {
   "cell_type": "markdown",
   "metadata": {},
   "source": [
    "## Задачи для совместного разбора"
   ]
  },
  {
   "cell_type": "markdown",
   "metadata": {},
   "source": [
    "1. Сгенерировать двухмерный массив `arr` размерности (4, 7), состоящий из случайных действительных чисел, равномерно распределенных в диапазоне от 0 до 20. Нормализовать значения массива с помощью преобразования вида  $𝑎𝑥+𝑏$  так, что после нормализации максимальный элемент масcива будет равен 1.0, минимальный 0.0"
   ]
  },
  {
   "cell_type": "code",
   "execution_count": 17,
   "metadata": {},
   "outputs": [
    {
     "name": "stdout",
     "output_type": "stream",
     "text": [
      "[[13 10 16 10 12 10 13]\n",
      " [ 6 17  2  0 19  6 15]\n",
      " [ 5  4  8 18  3  8  0]\n",
      " [11 17 20  5 15  5 11]]\n"
     ]
    }
   ],
   "source": [
    "import numpy as np\n",
    "arr = np.random.randint(0,21, size=(4,7))\n",
    "print(arr)"
   ]
  },
  {
   "cell_type": "markdown",
   "metadata": {},
   "source": [
    "2. Создать матрицу 8 на 10 из случайных целых (используя модуль `numpy.random`) чисел из диапозона от 0 до 10 и найти в ней строку (ее индекс и вывести саму строку), в которой сумма значений минимальна."
   ]
  },
  {
   "cell_type": "code",
   "execution_count": 18,
   "metadata": {},
   "outputs": [
    {
     "name": "stdout",
     "output_type": "stream",
     "text": [
      "[4 3 0 5 1 3 5 7 1 5]\n"
     ]
    }
   ],
   "source": [
    "arr = np.random.randint(0,11, size=(8,10))\n",
    "sum = np.sum(arr, axis=1)\n",
    "min_index = sum.argmin()\n",
    "print(arr[min_index])"
   ]
  },
  {
   "cell_type": "markdown",
   "metadata": {},
   "source": [
    "3. Найти евклидово расстояние между двумя одномерными векторами одинаковой размерности."
   ]
  },
  {
   "cell_type": "markdown",
   "metadata": {},
   "source": [
    "4. Решить матричное уравнение `A*X*B=-C` - найти матрицу `X`. Где `A = [[-1, 2, 4], [-3, 1, 2], [-3, 0, 1]]`, `B=[[3, -1], [2, 1]]`, `C=[[7, 21], [11, 8], [8, 4]]`."
   ]
  },
  {
   "cell_type": "code",
   "execution_count": null,
   "metadata": {},
   "outputs": [],
   "source": []
  },
  {
   "cell_type": "markdown",
   "metadata": {},
   "source": [
    "## Лабораторная работа №1"
   ]
  },
  {
   "cell_type": "markdown",
   "metadata": {},
   "source": [
    "Замечание: при решении данных задач не подразумевается использования циклов или генераторов Python, если в задании не сказано обратного. Решение должно опираться на использования функционала библиотеки `numpy`."
   ]
  },
  {
   "cell_type": "markdown",
   "metadata": {},
   "source": [
    "1. Файл `minutes_n_ingredients.csv` содержит информацию об идентификаторе рецепта, времени его выполнения в минутах и количестве необходимых ингредиентов. Считайте данные из этого файла в виде массива `numpy` типа `int32`, используя `np.loadtxt`. Выведите на экран первые 5 строк массива."
   ]
  },
  {
   "cell_type": "code",
   "execution_count": 19,
   "metadata": {},
   "outputs": [
    {
     "name": "stdout",
     "output_type": "stream",
     "text": [
      "[[127244     60     16]\n",
      " [ 23891     25      7]\n",
      " [ 94746     10      6]\n",
      " [ 67660      5      6]\n",
      " [157911     60     14]]\n"
     ]
    }
   ],
   "source": [
    "import numpy as np\n",
    "data = np.loadtxt(r\"minutes_n_ingredients.csv\", delimiter=\",\", dtype=\"int32\", skiprows=1)\n",
    "print(data[0:5, ])"
   ]
  },
  {
   "cell_type": "markdown",
   "metadata": {},
   "source": [
    "2. Вычислите среднее значение, минимум, максимум и медиану по каждому из столбцов, кроме первого."
   ]
  },
  {
   "cell_type": "code",
   "execution_count": 20,
   "metadata": {},
   "outputs": [
    {
     "name": "stdout",
     "output_type": "stream",
     "text": [
      "Среднее значение 2 столбца - 21601.00169\n",
      "Среднее значение 3 столбца - 9.05528\n",
      "Минимальное значение 2 столбца - 0\n",
      "Минимальное значение 3 столбца - 1\n",
      "Максимальное значение 2 столбца - 2147483647\n",
      "Максимальное значение 3 столбца - 39\n",
      "Медианное значение 2 столбца - 40.0\n",
      "Медианное значение 3 столбца - 9.0\n"
     ]
    }
   ],
   "source": [
    "avg_value = np.mean(data[:,1], axis=0)\n",
    "avg_value2 = np.mean(data[:,2], axis=0)\n",
    "min_value = np.min(data[:,1], axis=0)\n",
    "min_value2 = np.min(data[:,2], axis=0)\n",
    "max_value = np.max(data[:,1], axis=0)\n",
    "max_value2 = np.max(data[:,2], axis=0)\n",
    "med_value = np.median(data[:,1], axis=0)\n",
    "med_value2 = np.median(data[:,2], axis=0)\n",
    "\n",
    "print(f\"Среднее значение 2 столбца - {avg_value}\")\n",
    "print(f\"Среднее значение 3 столбца - {avg_value2}\")\n",
    "print(f\"Минимальное значение 2 столбца - {min_value}\")\n",
    "print(f\"Минимальное значение 3 столбца - {min_value2}\")\n",
    "print(f\"Максимальное значение 2 столбца - {max_value}\")\n",
    "print(f\"Максимальное значение 3 столбца - {max_value2}\")\n",
    "print(f\"Медианное значение 2 столбца - {med_value}\")\n",
    "print(f\"Медианное значение 3 столбца - {med_value2}\")"
   ]
  },
  {
   "cell_type": "markdown",
   "metadata": {},
   "source": [
    "3. Ограничьте сверху значения продолжительности выполнения рецепта значением квантиля $q_{0.75}$. "
   ]
  },
  {
   "cell_type": "markdown",
   "metadata": {},
   "source": [
    "4. Посчитайте, для скольких рецептов указана продолжительность, равная нулю. Замените для таких строк значение в данном столбце на 1."
   ]
  },
  {
   "cell_type": "code",
   "execution_count": 21,
   "metadata": {},
   "outputs": [
    {
     "name": "stdout",
     "output_type": "stream",
     "text": [
      "479\n",
      "0\n"
     ]
    }
   ],
   "source": [
    "data_copy = data.copy()\n",
    "print(len(data_copy[data_copy[:, 1] == 0]))\n",
    "data_copy[data_copy[:, 1] == 0] = 1\n",
    "print(len(data_copy[data_copy[:, 1] == 0]))"
   ]
  },
  {
   "cell_type": "markdown",
   "metadata": {},
   "source": [
    "5. Посчитайте, сколько уникальных рецептов находится в датасете."
   ]
  },
  {
   "cell_type": "code",
   "execution_count": 22,
   "metadata": {},
   "outputs": [
    {
     "name": "stdout",
     "output_type": "stream",
     "text": [
      "656\n"
     ]
    }
   ],
   "source": [
    "print(len(np.unique(data[:, 1:])))"
   ]
  },
  {
   "cell_type": "markdown",
   "metadata": {},
   "source": [
    "6. Сколько и каких различных значений кол-ва ингредиентов присутвует в рецептах из датасета?"
   ]
  },
  {
   "cell_type": "code",
   "execution_count": 23,
   "metadata": {},
   "outputs": [
    {
     "name": "stdout",
     "output_type": "stream",
     "text": [
      "Кол-во ингридеентов-1, встретилось 13 раз\n",
      "Кол-во ингридеентов-2, встретилось 926 раз\n",
      "Кол-во ингридеентов-3, встретилось 2895 раз\n",
      "Кол-во ингридеентов-4, встретилось 5515 раз\n",
      "Кол-во ингридеентов-5, встретилось 7913 раз\n",
      "Кол-во ингридеентов-6, встретилось 9376 раз\n",
      "Кол-во ингридеентов-7, встретилось 10628 раз\n",
      "Кол-во ингридеентов-8, встретилось 10951 раз\n",
      "Кол-во ингридеентов-9, встретилось 10585 раз\n",
      "Кол-во ингридеентов-10, встретилось 9591 раз\n",
      "Кол-во ингридеентов-11, встретилось 8297 раз\n",
      "Кол-во ингридеентов-12, встретилось 6605 раз\n",
      "Кол-во ингридеентов-13, встретилось 4997 раз\n",
      "Кол-во ингридеентов-14, встретилось 3663 раз\n",
      "Кол-во ингридеентов-15, встретилось 2595 раз\n",
      "Кол-во ингридеентов-16, встретилось 1767 раз\n",
      "Кол-во ингридеентов-17, встретилось 1246 раз\n",
      "Кол-во ингридеентов-18, встретилось 790 раз\n",
      "Кол-во ингридеентов-19, встретилось 573 раз\n",
      "Кол-во ингридеентов-20, встретилось 376 раз\n",
      "Кол-во ингридеентов-21, встретилось 217 раз\n",
      "Кол-во ингридеентов-22, встретилось 161 раз\n",
      "Кол-во ингридеентов-23, встретилось 105 раз\n",
      "Кол-во ингридеентов-24, встретилось 69 раз\n",
      "Кол-во ингридеентов-25, встретилось 50 раз\n",
      "Кол-во ингридеентов-26, встретилось 28 раз\n",
      "Кол-во ингридеентов-27, встретилось 16 раз\n",
      "Кол-во ингридеентов-28, встретилось 16 раз\n",
      "Кол-во ингридеентов-29, встретилось 12 раз\n",
      "Кол-во ингридеентов-30, встретилось 12 раз\n",
      "Кол-во ингридеентов-31, встретилось 3 раз\n",
      "Кол-во ингридеентов-32, встретилось 1 раз\n",
      "Кол-во ингридеентов-33, встретилось 2 раз\n",
      "Кол-во ингридеентов-34, встретилось 1 раз\n",
      "Кол-во ингридеентов-35, встретилось 3 раз\n",
      "Кол-во ингридеентов-37, встретилось 1 раз\n",
      "Кол-во ингридеентов-39, встретилось 1 раз\n"
     ]
    }
   ],
   "source": [
    "data_3, count = np.unique(data[:, 2], return_counts=True)\n",
    "for i, j in zip(data_3, count):\n",
    "    print(f\"Кол-во ингридеентов-{i}, встретилось {j} раз\")"
   ]
  },
  {
   "cell_type": "markdown",
   "metadata": {},
   "source": [
    "7. Создайте версию массива, содержащую информацию только о рецептах, состоящих не более чем из 5 ингредиентов."
   ]
  },
  {
   "cell_type": "code",
   "execution_count": 24,
   "metadata": {},
   "outputs": [
    {
     "name": "stdout",
     "output_type": "stream",
     "text": [
      "[[204134      5      3]\n",
      " [ 25623      6      4]\n",
      " [484223     18      4]\n",
      " ...\n",
      " [227056     30      4]\n",
      " [128811     15      4]\n",
      " [370915      5      4]]\n"
     ]
    }
   ],
   "source": [
    "data_4 = data[data[:,2]<5]\n",
    "print(data_4)"
   ]
  },
  {
   "cell_type": "markdown",
   "metadata": {},
   "source": [
    "8. Для каждого рецепта посчитайте, сколько в среднем ингредиентов приходится на одну минуту рецепта. Найдите максимальное значение этой величины для всего датасета"
   ]
  },
  {
   "cell_type": "code",
   "execution_count": 25,
   "metadata": {},
   "outputs": [
    {
     "name": "stdout",
     "output_type": "stream",
     "text": [
      "[array([ 3.75      ,  3.57142857,  1.66666667, ...,  4.33333333,\n",
      "        1.25      , 10.        ])]\n"
     ]
    }
   ],
   "source": [
    "data_5 = data.copy()\n",
    "data_5 = [[data[:,1]/data[:,2]]]\n",
    "print(max(data_5))"
   ]
  },
  {
   "cell_type": "markdown",
   "metadata": {},
   "source": [
    "9. Вычислите среднее количество ингредиентов для топ-100 рецептов с наибольшей продолжительностью"
   ]
  },
  {
   "cell_type": "code",
   "execution_count": 26,
   "metadata": {},
   "outputs": [
    {
     "name": "stdout",
     "output_type": "stream",
     "text": [
      "6.61\n"
     ]
    }
   ],
   "source": [
    "data_7 = data.copy()\n",
    "sorted_data_7 = data_7[data_7[:, 1].argsort()[::-1]]\n",
    "top_100_recipes = sorted_data_7[:100]\n",
    "avg_ingr = np.average(top_100_recipes[:, 2])\n",
    "print(avg_ingr)"
   ]
  },
  {
   "cell_type": "markdown",
   "metadata": {},
   "source": [
    "10. Выберите случайным образом и выведите информацию о 10 различных рецептах"
   ]
  },
  {
   "cell_type": "code",
   "execution_count": 27,
   "metadata": {},
   "outputs": [
    {
     "name": "stdout",
     "output_type": "stream",
     "text": [
      "[[436732     45     12]\n",
      " [272159     23      8]\n",
      " [165515    225      8]\n",
      " [397638    150     12]\n",
      " [317037     20     11]\n",
      " [322300     30     14]\n",
      " [ 47113     10      5]\n",
      " [309304      2      4]\n",
      " [ 68318     35     20]\n",
      " [144657     25     11]]\n"
     ]
    }
   ],
   "source": [
    "rand_ind = np.random.choice(len(data[:,0]), size=10, replace=False)\n",
    "rand_rec = data[rand_ind]\n",
    "print(rand_rec)"
   ]
  },
  {
   "cell_type": "markdown",
   "metadata": {},
   "source": [
    "11. Выведите процент рецептов, кол-во ингредиентов в которых меньше среднего."
   ]
  },
  {
   "cell_type": "code",
   "execution_count": 28,
   "metadata": {},
   "outputs": [
    {
     "name": "stdout",
     "output_type": "stream",
     "text": [
      "58.802 %\n"
     ]
    }
   ],
   "source": [
    "less_avg = data[data[:,2]<avg_value2]\n",
    "p = len(less_avg)/len(data)\n",
    "print(p*100,'%')"
   ]
  },
  {
   "cell_type": "markdown",
   "metadata": {},
   "source": [
    "12. Назовем \"простым\" такой рецепт, длительность выполнения которого не больше 20 минут и кол-во ингредиентов в котором не больше 5. Создайте версию датасета с дополнительным столбцом, значениями которого являются 1, если рецепт простой, и 0 в противном случае."
   ]
  },
  {
   "cell_type": "code",
   "execution_count": 29,
   "metadata": {},
   "outputs": [
    {
     "data": {
      "text/plain": [
       "array([[127244,     60,     16,      0],\n",
       "       [ 23891,     25,      7,      0],\n",
       "       [ 94746,     10,      6,      0],\n",
       "       ...,\n",
       "       [498432,     65,     15,      0],\n",
       "       [370915,      5,      4,      1],\n",
       "       [ 81993,    140,     14,      0]])"
      ]
     },
     "execution_count": 29,
     "metadata": {},
     "output_type": "execute_result"
    }
   ],
   "source": [
    "good_recepts = np.zeros((data.shape[0], 4), dtype=int)\n",
    "good_recepts[:, :3] = data\n",
    "good_recepts[np.where((data[:, 2] <= 5) & (data[:, 1] <= 20)), 3] = 1\n",
    "good_recepts"
   ]
  },
  {
   "cell_type": "markdown",
   "metadata": {},
   "source": [
    "13. Выведите процент \"простых\" рецептов в датасете"
   ]
  },
  {
   "cell_type": "code",
   "execution_count": 41,
   "metadata": {},
   "outputs": [
    {
     "name": "stdout",
     "output_type": "stream",
     "text": [
      "9.552 %\n"
     ]
    }
   ],
   "source": [
    "p = good_recepts[:,3].sum()/len(data)\n",
    "print(p*100,'%')"
   ]
  },
  {
   "cell_type": "markdown",
   "metadata": {},
   "source": [
    "14. Разделим рецепты на группы по следующему правилу. Назовем рецепты короткими, если их продолжительность составляет менее 10 минут; стандартными, если их продолжительность составляет более 10, но менее 20 минут; и длинными, если их продолжительность составляет не менее 20 минут. Создайте трехмерный массив, где нулевая ось отвечает за номер группы (короткий, стандартный или длинный рецепт), первая ось - за сам рецепт и вторая ось - за характеристики рецепта. Выберите максимальное количество рецептов из каждой группы таким образом, чтобы было возможно сформировать трехмерный массив. Выведите форму полученного массива."
   ]
  },
  {
   "cell_type": "code",
   "execution_count": null,
   "metadata": {},
   "outputs": [
    {
     "data": {
      "text/plain": [
       "((3, 7588, 3),\n",
       " array([[[ 67660,      5,      6],\n",
       "         [366174,      7,      9],\n",
       "         [204134,      5,      3],\n",
       "         ...,\n",
       "         [420725,      5,      3],\n",
       "         [  4747,      0,      9],\n",
       "         [370915,      5,      4]],\n",
       " \n",
       "        [[ 94746,     10,      6],\n",
       "         [ 33941,     18,      9],\n",
       "         [446597,     15,      5],\n",
       "         ...,\n",
       "         [  9831,     15,      7],\n",
       "         [335859,     12,     14],\n",
       "         [256812,     10,      3]],\n",
       " \n",
       "        [[127244,     60,     16],\n",
       "         [ 23891,     25,      7],\n",
       "         [157911,     60,     14],\n",
       "         ...,\n",
       "         [168901,     25,      7],\n",
       "         [392339,     35,     13],\n",
       "         [206732,     45,     10]]]))"
      ]
     },
     "execution_count": 16,
     "metadata": {},
     "output_type": "execute_result"
    }
   ],
   "source": [
    "short_recipes = data[data[:, 1] < 10]\n",
    "standard_recipes = data[(data[:, 1] >= 10) & (data[:, 1] < 20)]\n",
    "long_recipes = data[data[:, 1] >= 20]\n",
    "\n",
    "max_length = min(len(short_recipes), len(standard_recipes), len(long_recipes))\n",
    "\n",
    "three_dimensional_array = np.zeros((3, max_length, 3), dtype=int)\n",
    "\n",
    "three_dimensional_array[0, :max_length, :] = short_recipes[:max_length]\n",
    "three_dimensional_array[1, :max_length, :] = standard_recipes[:max_length]\n",
    "three_dimensional_array[2, :max_length, :] = long_recipes[:max_length]\n",
    "\n",
    "three_dimensional_array.shape, three_dimensional_array"
   ]
  }
 ],
 "metadata": {
  "kernelspec": {
   "display_name": "Python 3 (ipykernel)",
   "language": "python",
   "name": "python3"
  },
  "language_info": {
   "codemirror_mode": {
    "name": "ipython",
    "version": 3
   },
   "file_extension": ".py",
   "mimetype": "text/x-python",
   "name": "python",
   "nbconvert_exporter": "python",
   "pygments_lexer": "ipython3",
   "version": "3.11.5"
  }
 },
 "nbformat": 4,
 "nbformat_minor": 4
}
