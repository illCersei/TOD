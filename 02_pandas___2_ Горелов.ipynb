{
 "cells": [
  {
   "cell_type": "markdown",
   "metadata": {},
   "source": [
    "# Pandas"
   ]
  },
  {
   "cell_type": "markdown",
   "metadata": {},
   "source": [
    "Материалы:\n",
    "* Макрушин С.В. \"Лекция 2: Библиотека Pandas\"\n",
    "* https://pandas.pydata.org/docs/user_guide/index.html#\n",
    "* https://pandas.pydata.org/docs/reference/index.html\n",
    "* Уэс Маккини. Python и анализ данных"
   ]
  },
  {
   "cell_type": "markdown",
   "metadata": {},
   "source": [
    "## Задачи для совместного разбора"
   ]
  },
  {
   "cell_type": "markdown",
   "metadata": {},
   "source": [
    "1. Загрузите данные из файла `sp500hst.txt` и обозначьте столбцы в соответствии с содержимым: `\"date\", \"ticker\", \"open\", \"high\", \"low\", \"close\", \"volume\"`."
   ]
  },
  {
   "cell_type": "markdown",
   "metadata": {},
   "source": [
    "2. Рассчитайте среднее значение показателей для каждого из столбцов c номерами 3-6."
   ]
  },
  {
   "cell_type": "markdown",
   "metadata": {},
   "source": [
    "3. Добавьте столбец, содержащий только число месяца, к которому относится дата."
   ]
  },
  {
   "cell_type": "markdown",
   "metadata": {},
   "source": [
    "4. Рассчитайте суммарный объем торгов для для одинаковых значений тикеров."
   ]
  },
  {
   "cell_type": "markdown",
   "metadata": {},
   "source": [
    "5. Загрузите данные из файла sp500hst.txt и обозначьте столбцы в соответствии с содержимым: \"date\", \"ticker\", \"open\", \"high\", \"low\", \"close\", \"volume\". Добавьте столбец с расшифровкой названия тикера, используя данные из файла `sp_data2.csv` . В случае нехватки данных об именах тикеров корректно обработать их."
   ]
  },
  {
   "cell_type": "markdown",
   "metadata": {},
   "source": [
    "## Лабораторная работа №2"
   ]
  },
  {
   "cell_type": "markdown",
   "metadata": {},
   "source": [
    "### Базовые операции с `DataFrame`"
   ]
  },
  {
   "cell_type": "markdown",
   "metadata": {},
   "source": [
    "1.1 В файлах `recipes_sample.csv` и `reviews_sample.csv` находится информация об рецептах блюд и отзывах на эти рецепты соответственно. Загрузите данные из файлов в виде `pd.DataFrame` с названиями `recipes` и `reviews`. Обратите внимание на корректное считывание столбца с индексами в таблице `reviews` (безымянный столбец)."
   ]
  },
  {
   "cell_type": "code",
   "execution_count": 1,
   "metadata": {},
   "outputs": [
    {
     "name": "stdout",
     "output_type": "stream",
     "text": [
      "        Индексы     user_id  recipe_id        date  rating  \\\n",
      "0        370476       21752      57993  2003-05-01       5   \n",
      "1        624300      431813     142201  2007-09-16       5   \n",
      "2        187037      400708     252013  2008-01-10       4   \n",
      "3        706134  2001852463     404716  2017-12-11       5   \n",
      "4        312179       95810     129396  2008-03-14       5   \n",
      "...         ...         ...        ...         ...     ...   \n",
      "126691  1013457     1270706     335534  2009-05-17       4   \n",
      "126692   158736     2282344       8701  2012-06-03       0   \n",
      "126693  1059834      689540     222001  2008-04-08       5   \n",
      "126694   453285  2000242659     354979  2015-06-02       5   \n",
      "126695   691207      463435     415599  2010-09-30       5   \n",
      "\n",
      "                                                   review  \n",
      "0       Last week whole sides of frozen salmon fillet ...  \n",
      "1       So simple and so tasty!  I used a yellow capsi...  \n",
      "2       Very nice breakfast HH, easy to make and yummy...  \n",
      "3       These are a favorite for the holidays and so e...  \n",
      "4       Excellent soup!  The tomato flavor is just gre...  \n",
      "...                                                   ...  \n",
      "126691  This recipe was great! I made it last night. I...  \n",
      "126692  This recipe is outstanding. I followed the rec...  \n",
      "126693  Well, we were not a crowd but it was a fabulou...  \n",
      "126694  I have been a steak eater and dedicated BBQ gr...  \n",
      "126695  Wonderful and simple to prepare seasoning blen...  \n",
      "\n",
      "[126696 rows x 6 columns]\n"
     ]
    }
   ],
   "source": [
    "import pandas as pd\n",
    "recipes = pd.read_csv(\"recipes_sample.csv\", header=0)\n",
    "reviews = pd.read_csv(\"reviews_sample.csv\", header=0)\n",
    "reviews.rename( columns={'Unnamed: 0' :  \"Индексы\"}, inplace=1)\n",
    "print(reviews)\n"
   ]
  },
  {
   "cell_type": "markdown",
   "metadata": {},
   "source": [
    "1.2 Для каждой из таблиц выведите основные параметры:\n",
    "* количество точек данных (строк);\n",
    "* количество столбцов;\n",
    "* тип данных каждого столбца."
   ]
  },
  {
   "cell_type": "code",
   "execution_count": 2,
   "metadata": {},
   "outputs": [
    {
     "name": "stdout",
     "output_type": "stream",
     "text": [
      "recipes строк - 30000\n",
      "reviews строк - 126696\n",
      "recipes столбцов - 8\n",
      "reviews столбцоы - 6\n",
      "********************\n",
      "recipes столбцы\n",
      "name               object\n",
      "id                  int64\n",
      "minutes             int64\n",
      "contributor_id      int64\n",
      "submitted          object\n",
      "n_steps           float64\n",
      "description        object\n",
      "n_ingredients     float64\n",
      "dtype: object\n",
      "********************\n",
      "reviews столбцы\n",
      "Индексы       int64\n",
      "user_id       int64\n",
      "recipe_id     int64\n",
      "date         object\n",
      "rating        int64\n",
      "review       object\n",
      "dtype: object\n"
     ]
    }
   ],
   "source": [
    "print(f\"recipes строк - {len(recipes.index)}\")\n",
    "print(f\"reviews строк - {len(reviews.index)}\")\n",
    "print(f\"recipes столбцов - {len(recipes.columns)}\")\n",
    "print(f\"reviews столбцоы - {len(reviews.columns)}\")\n",
    "print(\"*\"*20)\n",
    "print(f\"recipes столбцы\\n{recipes.dtypes}\")\n",
    "print(\"*\"*20)\n",
    "print(f\"reviews столбцы\\n{reviews.dtypes}\")\n"
   ]
  },
  {
   "cell_type": "markdown",
   "metadata": {},
   "source": [
    "1.3 Исследуйте, в каких столбцах таблиц содержатся пропуски. Посчитайте долю строк, содержащих пропуски, в отношении к общему количеству строк."
   ]
  },
  {
   "cell_type": "code",
   "execution_count": 3,
   "metadata": {},
   "outputs": [
    {
     "name": "stdout",
     "output_type": "stream",
     "text": [
      "% пропусков в recipes - 56.847%\n",
      "% пропусков в reviews - 0.013%\n"
     ]
    }
   ],
   "source": [
    "#print(f\"{recipes.isnull().sum(axis=1)}\")\n",
    "#print(f\"{reviews.isnull().sum(axis=1)}\")\n",
    "print(f\"% пропусков в recipes - {(recipes.isnull().any(axis=1).sum() / len(recipes.index)) * 100:.3f}%\")\n",
    "print(f\"% пропусков в reviews - {(reviews.isnull().any(axis=1).sum() / len(reviews.index)) * 100:.3f}%\")"
   ]
  },
  {
   "cell_type": "markdown",
   "metadata": {},
   "source": [
    "1.4 Рассчитайте среднее значение для каждого из числовых столбцов (где это имеет смысл)."
   ]
  },
  {
   "cell_type": "code",
   "execution_count": 4,
   "metadata": {},
   "outputs": [
    {
     "name": "stdout",
     "output_type": "stream",
     "text": [
      "id                2.218793e+05\n",
      "minutes           1.233581e+02\n",
      "contributor_id    5.635901e+06\n",
      "n_steps           9.805582e+00\n",
      "n_ingredients     9.008286e+00\n",
      "dtype: float64\n",
      "******************************\n",
      "Индексы      5.660898e+05\n",
      "user_id      1.408013e+08\n",
      "recipe_id    1.600944e+05\n",
      "rating       4.410802e+00\n",
      "dtype: float64\n"
     ]
    }
   ],
   "source": [
    "print(f\"{recipes.mean(numeric_only=1)}\")\n",
    "print('*'*30)\n",
    "print(f\"{reviews.mean(numeric_only=1)}\")"
   ]
  },
  {
   "cell_type": "markdown",
   "metadata": {},
   "source": [
    "1.5 Создайте серию из 10 случайных названий рецептов."
   ]
  },
  {
   "cell_type": "code",
   "execution_count": 5,
   "metadata": {},
   "outputs": [
    {
     "name": "stdout",
     "output_type": "stream",
     "text": [
      "4421                      cajun style dirty rice\n",
      "25976            strawberries and cream cocktail\n",
      "17651       mignon s rice and broccoli casserole\n",
      "8209      creamy chicken and rice in a crock pot\n",
      "19884                    parmesan white bean dip\n",
      "20313                    peanut lime vinaigrette\n",
      "23408                saucy summer squash skillet\n",
      "17002    marbled chocolate peanut butter cookies\n",
      "10832                    fat free vegetable soup\n",
      "1172       artichoke sausage stuffing   dressing\n",
      "Name: name, dtype: object\n"
     ]
    }
   ],
   "source": [
    "temp = recipes['name'].sample(10)\n",
    "print(temp)"
   ]
  },
  {
   "cell_type": "markdown",
   "metadata": {},
   "source": [
    "1.6 Измените индекс в таблице `reviews`, пронумеровав строки, начиная с нуля."
   ]
  },
  {
   "cell_type": "code",
   "execution_count": 16,
   "metadata": {},
   "outputs": [
    {
     "data": {
      "text/html": [
       "<div>\n",
       "<style scoped>\n",
       "    .dataframe tbody tr th:only-of-type {\n",
       "        vertical-align: middle;\n",
       "    }\n",
       "\n",
       "    .dataframe tbody tr th {\n",
       "        vertical-align: top;\n",
       "    }\n",
       "\n",
       "    .dataframe thead th {\n",
       "        text-align: right;\n",
       "    }\n",
       "</style>\n",
       "<table border=\"1\" class=\"dataframe\">\n",
       "  <thead>\n",
       "    <tr style=\"text-align: right;\">\n",
       "      <th></th>\n",
       "      <th>Индексы</th>\n",
       "      <th>user_id</th>\n",
       "      <th>recipe_id</th>\n",
       "      <th>date</th>\n",
       "      <th>rating</th>\n",
       "      <th>review</th>\n",
       "    </tr>\n",
       "  </thead>\n",
       "  <tbody>\n",
       "    <tr>\n",
       "      <th>0</th>\n",
       "      <td>0</td>\n",
       "      <td>21752</td>\n",
       "      <td>57993</td>\n",
       "      <td>2003-05-01</td>\n",
       "      <td>5</td>\n",
       "      <td>Last week whole sides of frozen salmon fillet ...</td>\n",
       "    </tr>\n",
       "    <tr>\n",
       "      <th>1</th>\n",
       "      <td>1</td>\n",
       "      <td>431813</td>\n",
       "      <td>142201</td>\n",
       "      <td>2007-09-16</td>\n",
       "      <td>5</td>\n",
       "      <td>So simple and so tasty!  I used a yellow capsi...</td>\n",
       "    </tr>\n",
       "    <tr>\n",
       "      <th>2</th>\n",
       "      <td>2</td>\n",
       "      <td>400708</td>\n",
       "      <td>252013</td>\n",
       "      <td>2008-01-10</td>\n",
       "      <td>4</td>\n",
       "      <td>Very nice breakfast HH, easy to make and yummy...</td>\n",
       "    </tr>\n",
       "    <tr>\n",
       "      <th>3</th>\n",
       "      <td>3</td>\n",
       "      <td>2001852463</td>\n",
       "      <td>404716</td>\n",
       "      <td>2017-12-11</td>\n",
       "      <td>5</td>\n",
       "      <td>These are a favorite for the holidays and so e...</td>\n",
       "    </tr>\n",
       "    <tr>\n",
       "      <th>4</th>\n",
       "      <td>4</td>\n",
       "      <td>95810</td>\n",
       "      <td>129396</td>\n",
       "      <td>2008-03-14</td>\n",
       "      <td>5</td>\n",
       "      <td>Excellent soup!  The tomato flavor is just gre...</td>\n",
       "    </tr>\n",
       "    <tr>\n",
       "      <th>...</th>\n",
       "      <td>...</td>\n",
       "      <td>...</td>\n",
       "      <td>...</td>\n",
       "      <td>...</td>\n",
       "      <td>...</td>\n",
       "      <td>...</td>\n",
       "    </tr>\n",
       "    <tr>\n",
       "      <th>126691</th>\n",
       "      <td>126691</td>\n",
       "      <td>1270706</td>\n",
       "      <td>335534</td>\n",
       "      <td>2009-05-17</td>\n",
       "      <td>4</td>\n",
       "      <td>This recipe was great! I made it last night. I...</td>\n",
       "    </tr>\n",
       "    <tr>\n",
       "      <th>126692</th>\n",
       "      <td>126692</td>\n",
       "      <td>2282344</td>\n",
       "      <td>8701</td>\n",
       "      <td>2012-06-03</td>\n",
       "      <td>0</td>\n",
       "      <td>This recipe is outstanding. I followed the rec...</td>\n",
       "    </tr>\n",
       "    <tr>\n",
       "      <th>126693</th>\n",
       "      <td>126693</td>\n",
       "      <td>689540</td>\n",
       "      <td>222001</td>\n",
       "      <td>2008-04-08</td>\n",
       "      <td>5</td>\n",
       "      <td>Well, we were not a crowd but it was a fabulou...</td>\n",
       "    </tr>\n",
       "    <tr>\n",
       "      <th>126694</th>\n",
       "      <td>126694</td>\n",
       "      <td>2000242659</td>\n",
       "      <td>354979</td>\n",
       "      <td>2015-06-02</td>\n",
       "      <td>5</td>\n",
       "      <td>I have been a steak eater and dedicated BBQ gr...</td>\n",
       "    </tr>\n",
       "    <tr>\n",
       "      <th>126695</th>\n",
       "      <td>126695</td>\n",
       "      <td>463435</td>\n",
       "      <td>415599</td>\n",
       "      <td>2010-09-30</td>\n",
       "      <td>5</td>\n",
       "      <td>Wonderful and simple to prepare seasoning blen...</td>\n",
       "    </tr>\n",
       "  </tbody>\n",
       "</table>\n",
       "<p>126696 rows × 6 columns</p>\n",
       "</div>"
      ],
      "text/plain": [
       "        Индексы     user_id  recipe_id        date  rating  \\\n",
       "0             0       21752      57993  2003-05-01       5   \n",
       "1             1      431813     142201  2007-09-16       5   \n",
       "2             2      400708     252013  2008-01-10       4   \n",
       "3             3  2001852463     404716  2017-12-11       5   \n",
       "4             4       95810     129396  2008-03-14       5   \n",
       "...         ...         ...        ...         ...     ...   \n",
       "126691   126691     1270706     335534  2009-05-17       4   \n",
       "126692   126692     2282344       8701  2012-06-03       0   \n",
       "126693   126693      689540     222001  2008-04-08       5   \n",
       "126694   126694  2000242659     354979  2015-06-02       5   \n",
       "126695   126695      463435     415599  2010-09-30       5   \n",
       "\n",
       "                                                   review  \n",
       "0       Last week whole sides of frozen salmon fillet ...  \n",
       "1       So simple and so tasty!  I used a yellow capsi...  \n",
       "2       Very nice breakfast HH, easy to make and yummy...  \n",
       "3       These are a favorite for the holidays and so e...  \n",
       "4       Excellent soup!  The tomato flavor is just gre...  \n",
       "...                                                   ...  \n",
       "126691  This recipe was great! I made it last night. I...  \n",
       "126692  This recipe is outstanding. I followed the rec...  \n",
       "126693  Well, we were not a crowd but it was a fabulou...  \n",
       "126694  I have been a steak eater and dedicated BBQ gr...  \n",
       "126695  Wonderful and simple to prepare seasoning blen...  \n",
       "\n",
       "[126696 rows x 6 columns]"
      ]
     },
     "execution_count": 16,
     "metadata": {},
     "output_type": "execute_result"
    }
   ],
   "source": [
    "import numpy as np\n",
    "reviews.iloc[:, 0] = np.arange(len(reviews))\n",
    "(reviews)"
   ]
  },
  {
   "cell_type": "markdown",
   "metadata": {},
   "source": [
    "1.7 Выведите информацию о рецептах, время выполнения которых не больше 20 минут и кол-во ингредиентов в которых не больше 5."
   ]
  },
  {
   "cell_type": "code",
   "execution_count": 7,
   "metadata": {},
   "outputs": [
    {
     "name": "stdout",
     "output_type": "stream",
     "text": [
      "                                                    name      id  minutes  \\\n",
      "28                                   quick biscuit bread  302399       20   \n",
      "60                         peas  fit for a king or queen  303944       20   \n",
      "90                     hawaiian sunrise           mimosa  100837        5   \n",
      "91            tasty dish s   banana pudding in 2 minutes  286484        2   \n",
      "94                                    1 minute meatballs   11361       13   \n",
      "...                                                  ...     ...      ...   \n",
      "29873  zip and steam red potatoes with butter and garlic  304922       13   \n",
      "29874                          ziplock vanilla ice cream   74250       10   \n",
      "29905                      zucchini and corn with cheese  256177       15   \n",
      "29980               zucchini with jalapeno monterey jack  320622       10   \n",
      "29983                          zucchini with serrano ham  162411       15   \n",
      "\n",
      "       contributor_id   submitted  n_steps  \\\n",
      "28             213909  2008-05-06     11.0   \n",
      "60             213909  2008-05-16      NaN   \n",
      "90              58104  2004-09-29      4.0   \n",
      "91              47892  2008-02-13      NaN   \n",
      "94               4470  2001-09-03      NaN   \n",
      "...               ...         ...      ...   \n",
      "29873          724218  2008-05-27      9.0   \n",
      "29874           24386  2003-10-29      8.0   \n",
      "29905          305531  2007-09-29      4.0   \n",
      "29980          305531  2008-08-20      3.0   \n",
      "29983          152500  2006-03-31      6.0   \n",
      "\n",
      "                                             description  n_ingredients  \n",
      "28     this is a wonderful quick bread to make as an ...            5.0  \n",
      "60     this recipe is so simple and the flavors are s...            5.0  \n",
      "90     pineapple mimosa was changed to hawaiian sunri...            3.0  \n",
      "91     \"mmmm, i love bananas!\" a --tasty dish-- origi...            4.0  \n",
      "94     this is a real short cut for cooks in a hurry....            2.0  \n",
      "...                                                  ...            ...  \n",
      "29873  i haven't tried this yet, but i am going to so...            5.0  \n",
      "29874  a fun thing for kids to do. may want to use mi...            3.0  \n",
      "29905  from betty crocker fresh spring recipes. i lik...            5.0  \n",
      "29980                                  simple and yummy!            3.0  \n",
      "29983  this dish is from tim malzer, a german chef wh...            5.0  \n",
      "\n",
      "[2019 rows x 8 columns]\n"
     ]
    }
   ],
   "source": [
    "new_recipes = recipes[(recipes[\"minutes\"]<= 20) & (recipes[\"n_ingredients\"] <= 5)]\n",
    "print(new_recipes)"
   ]
  },
  {
   "cell_type": "markdown",
   "metadata": {},
   "source": [
    "### Работа с датами в `pandas`"
   ]
  },
  {
   "cell_type": "markdown",
   "metadata": {},
   "source": [
    "2.1 Преобразуйте столбец `submitted` из таблицы `recipes` в формат времени. Модифицируйте решение задачи 1.1 так, чтобы считать столбец сразу в нужном формате."
   ]
  },
  {
   "cell_type": "code",
   "execution_count": 8,
   "metadata": {},
   "outputs": [
    {
     "name": "stdout",
     "output_type": "stream",
     "text": [
      "                                               name      id  minutes  \\\n",
      "0             george s at the cove  black bean soup   44123       90   \n",
      "1                healthy for them  yogurt popsicles   67664       10   \n",
      "2                      i can t believe it s spinach   38798       30   \n",
      "3                              italian  gut busters   35173       45   \n",
      "4          love is in the air  beef fondue   sauces   84797       25   \n",
      "...                                             ...     ...      ...   \n",
      "29995  zurie s holey rustic olive and cheddar bread  267661       80   \n",
      "29996          zwetschgenkuchen  bavarian plum cake  386977      240   \n",
      "29997   zwiebelkuchen   southwest german onion cake  103312       75   \n",
      "29998                                   zydeco soup  486161       60   \n",
      "29999        cookies by design   cookies on a stick  298512       29   \n",
      "\n",
      "       contributor_id  submitted  n_steps  \\\n",
      "0               35193 2002-10-25      NaN   \n",
      "1               91970 2003-07-26      NaN   \n",
      "2                1533 2002-08-29      NaN   \n",
      "3               22724 2002-07-27      NaN   \n",
      "4                4470 2004-02-23      4.0   \n",
      "...               ...        ...      ...   \n",
      "29995          200862 2007-11-25     16.0   \n",
      "29996          177443 2009-08-24      NaN   \n",
      "29997          161745 2004-11-03      NaN   \n",
      "29998          227978 2012-08-29      NaN   \n",
      "29999          506822 2008-04-15      9.0   \n",
      "\n",
      "                                             description  n_ingredients  \n",
      "0      an original recipe created by chef scott meska...           18.0  \n",
      "1      my children and their friends ask for my homem...            NaN  \n",
      "2                these were so go, it surprised even me.            8.0  \n",
      "3      my sister-in-law made these for us at a family...            NaN  \n",
      "4      i think a fondue is a very romantic casual din...            NaN  \n",
      "...                                                  ...            ...  \n",
      "29995  this is based on a french recipe but i changed...           10.0  \n",
      "29996  this is a traditional fresh plum cake, thought...           11.0  \n",
      "29997  this is a traditional late summer early fall s...            NaN  \n",
      "29998  this is a delicious soup that i originally fou...            NaN  \n",
      "29999  i've heard of the 'cookies by design' company,...           10.0  \n",
      "\n",
      "[30000 rows x 8 columns]\n"
     ]
    }
   ],
   "source": [
    "recipes = pd.read_csv(\"recipes_sample.csv\", parse_dates=['submitted'], delimiter=',', header=0)\n",
    "print(recipes)\n"
   ]
  },
  {
   "cell_type": "markdown",
   "metadata": {},
   "source": [
    "2.2 Выведите информацию о рецептах, добавленных в датасет не позже 2010 года."
   ]
  },
  {
   "cell_type": "code",
   "execution_count": 9,
   "metadata": {},
   "outputs": [
    {
     "name": "stdout",
     "output_type": "stream",
     "text": [
      "                                               name      id  minutes  \\\n",
      "0             george s at the cove  black bean soup   44123       90   \n",
      "1                healthy for them  yogurt popsicles   67664       10   \n",
      "2                      i can t believe it s spinach   38798       30   \n",
      "3                              italian  gut busters   35173       45   \n",
      "4          love is in the air  beef fondue   sauces   84797       25   \n",
      "...                                             ...     ...      ...   \n",
      "29993                     zuni caf zucchini pickles  316950     2895   \n",
      "29995  zurie s holey rustic olive and cheddar bread  267661       80   \n",
      "29996          zwetschgenkuchen  bavarian plum cake  386977      240   \n",
      "29997   zwiebelkuchen   southwest german onion cake  103312       75   \n",
      "29999        cookies by design   cookies on a stick  298512       29   \n",
      "\n",
      "       contributor_id  submitted  n_steps  \\\n",
      "0               35193 2002-10-25      NaN   \n",
      "1               91970 2003-07-26      NaN   \n",
      "2                1533 2002-08-29      NaN   \n",
      "3               22724 2002-07-27      NaN   \n",
      "4                4470 2004-02-23      4.0   \n",
      "...               ...        ...      ...   \n",
      "29993           62264 2008-07-31      NaN   \n",
      "29995          200862 2007-11-25     16.0   \n",
      "29996          177443 2009-08-24      NaN   \n",
      "29997          161745 2004-11-03      NaN   \n",
      "29999          506822 2008-04-15      9.0   \n",
      "\n",
      "                                             description  n_ingredients  \n",
      "0      an original recipe created by chef scott meska...           18.0  \n",
      "1      my children and their friends ask for my homem...            NaN  \n",
      "2                these were so go, it surprised even me.            8.0  \n",
      "3      my sister-in-law made these for us at a family...            NaN  \n",
      "4      i think a fondue is a very romantic casual din...            NaN  \n",
      "...                                                  ...            ...  \n",
      "29993  refrigerator pickles for some of the zucchini ...            8.0  \n",
      "29995  this is based on a french recipe but i changed...           10.0  \n",
      "29996  this is a traditional fresh plum cake, thought...           11.0  \n",
      "29997  this is a traditional late summer early fall s...            NaN  \n",
      "29999  i've heard of the 'cookies by design' company,...           10.0  \n",
      "\n",
      "[27661 rows x 8 columns]\n"
     ]
    }
   ],
   "source": [
    "recipes_2010 = recipes[recipes['submitted'].dt.year <= 2010]\n",
    "print(recipes_2010)"
   ]
  },
  {
   "cell_type": "markdown",
   "metadata": {},
   "source": [
    "### Работа со строковыми данными в `pandas`"
   ]
  },
  {
   "cell_type": "markdown",
   "metadata": {},
   "source": [
    "3.1  Добавьте в таблицу `recipes` столбец `description_length`, в котором хранится длина описания рецепта из столбца `description`."
   ]
  },
  {
   "cell_type": "code",
   "execution_count": 10,
   "metadata": {},
   "outputs": [
    {
     "name": "stdout",
     "output_type": "stream",
     "text": [
      "                                               name      id  minutes  \\\n",
      "0             george s at the cove  black bean soup   44123       90   \n",
      "1                healthy for them  yogurt popsicles   67664       10   \n",
      "2                      i can t believe it s spinach   38798       30   \n",
      "3                              italian  gut busters   35173       45   \n",
      "4          love is in the air  beef fondue   sauces   84797       25   \n",
      "...                                             ...     ...      ...   \n",
      "29995  zurie s holey rustic olive and cheddar bread  267661       80   \n",
      "29996          zwetschgenkuchen  bavarian plum cake  386977      240   \n",
      "29997   zwiebelkuchen   southwest german onion cake  103312       75   \n",
      "29998                                   zydeco soup  486161       60   \n",
      "29999        cookies by design   cookies on a stick  298512       29   \n",
      "\n",
      "       contributor_id  submitted  n_steps  \\\n",
      "0               35193 2002-10-25      NaN   \n",
      "1               91970 2003-07-26      NaN   \n",
      "2                1533 2002-08-29      NaN   \n",
      "3               22724 2002-07-27      NaN   \n",
      "4                4470 2004-02-23      4.0   \n",
      "...               ...        ...      ...   \n",
      "29995          200862 2007-11-25     16.0   \n",
      "29996          177443 2009-08-24      NaN   \n",
      "29997          161745 2004-11-03      NaN   \n",
      "29998          227978 2012-08-29      NaN   \n",
      "29999          506822 2008-04-15      9.0   \n",
      "\n",
      "                                             description  n_ingredients  \\\n",
      "0      an original recipe created by chef scott meska...           18.0   \n",
      "1      my children and their friends ask for my homem...            NaN   \n",
      "2                these were so go, it surprised even me.            8.0   \n",
      "3      my sister-in-law made these for us at a family...            NaN   \n",
      "4      i think a fondue is a very romantic casual din...            NaN   \n",
      "...                                                  ...            ...   \n",
      "29995  this is based on a french recipe but i changed...           10.0   \n",
      "29996  this is a traditional fresh plum cake, thought...           11.0   \n",
      "29997  this is a traditional late summer early fall s...            NaN   \n",
      "29998  this is a delicious soup that i originally fou...            NaN   \n",
      "29999  i've heard of the 'cookies by design' company,...           10.0   \n",
      "\n",
      "       description_length  \n",
      "0                   330.0  \n",
      "1                   255.0  \n",
      "2                    39.0  \n",
      "3                   154.0  \n",
      "4                   587.0  \n",
      "...                   ...  \n",
      "29995               484.0  \n",
      "29996               286.0  \n",
      "29997               311.0  \n",
      "29998               648.0  \n",
      "29999               125.0  \n",
      "\n",
      "[30000 rows x 9 columns]\n"
     ]
    }
   ],
   "source": [
    "recipes['description_length'] = recipes['description'].str.len()\n",
    "print(recipes)"
   ]
  },
  {
   "cell_type": "markdown",
   "metadata": {},
   "source": [
    "3.2 Измените название каждого рецепта в таблице `recipes` таким образом, чтобы каждое слово в названии начиналось с прописной буквы."
   ]
  },
  {
   "cell_type": "code",
   "execution_count": 11,
   "metadata": {},
   "outputs": [
    {
     "name": "stdout",
     "output_type": "stream",
     "text": [
      "                                               name      id  minutes  \\\n",
      "0             George s at the cove  black bean soup   44123       90   \n",
      "1                Healthy for them  yogurt popsicles   67664       10   \n",
      "2                      I can t believe it s spinach   38798       30   \n",
      "3                              Italian  gut busters   35173       45   \n",
      "4          Love is in the air  beef fondue   sauces   84797       25   \n",
      "...                                             ...     ...      ...   \n",
      "29995  Zurie s holey rustic olive and cheddar bread  267661       80   \n",
      "29996          Zwetschgenkuchen  bavarian plum cake  386977      240   \n",
      "29997   Zwiebelkuchen   southwest german onion cake  103312       75   \n",
      "29998                                   Zydeco soup  486161       60   \n",
      "29999        Cookies by design   cookies on a stick  298512       29   \n",
      "\n",
      "       contributor_id  submitted  n_steps  \\\n",
      "0               35193 2002-10-25      NaN   \n",
      "1               91970 2003-07-26      NaN   \n",
      "2                1533 2002-08-29      NaN   \n",
      "3               22724 2002-07-27      NaN   \n",
      "4                4470 2004-02-23      4.0   \n",
      "...               ...        ...      ...   \n",
      "29995          200862 2007-11-25     16.0   \n",
      "29996          177443 2009-08-24      NaN   \n",
      "29997          161745 2004-11-03      NaN   \n",
      "29998          227978 2012-08-29      NaN   \n",
      "29999          506822 2008-04-15      9.0   \n",
      "\n",
      "                                             description  n_ingredients  \\\n",
      "0      an original recipe created by chef scott meska...           18.0   \n",
      "1      my children and their friends ask for my homem...            NaN   \n",
      "2                these were so go, it surprised even me.            8.0   \n",
      "3      my sister-in-law made these for us at a family...            NaN   \n",
      "4      i think a fondue is a very romantic casual din...            NaN   \n",
      "...                                                  ...            ...   \n",
      "29995  this is based on a french recipe but i changed...           10.0   \n",
      "29996  this is a traditional fresh plum cake, thought...           11.0   \n",
      "29997  this is a traditional late summer early fall s...            NaN   \n",
      "29998  this is a delicious soup that i originally fou...            NaN   \n",
      "29999  i've heard of the 'cookies by design' company,...           10.0   \n",
      "\n",
      "       description_length  \n",
      "0                   330.0  \n",
      "1                   255.0  \n",
      "2                    39.0  \n",
      "3                   154.0  \n",
      "4                   587.0  \n",
      "...                   ...  \n",
      "29995               484.0  \n",
      "29996               286.0  \n",
      "29997               311.0  \n",
      "29998               648.0  \n",
      "29999               125.0  \n",
      "\n",
      "[30000 rows x 9 columns]\n"
     ]
    }
   ],
   "source": [
    "recipes['name'] = recipes['name'].str.capitalize()\n",
    "print(recipes)"
   ]
  },
  {
   "cell_type": "markdown",
   "metadata": {},
   "source": [
    "3.3 Добавьте в таблицу `recipes` столбец `name_word_count`, в котором хранится количество слов из названии рецепта (считайте, что слова в названии разделяются только пробелами). Обратите внимание, что между словами может располагаться несколько пробелов подряд."
   ]
  },
  {
   "cell_type": "code",
   "execution_count": 12,
   "metadata": {},
   "outputs": [
    {
     "name": "stdout",
     "output_type": "stream",
     "text": [
      "                                               name      id  minutes  \\\n",
      "0             George s at the cove  black bean soup   44123       90   \n",
      "1                Healthy for them  yogurt popsicles   67664       10   \n",
      "2                      I can t believe it s spinach   38798       30   \n",
      "3                              Italian  gut busters   35173       45   \n",
      "4          Love is in the air  beef fondue   sauces   84797       25   \n",
      "...                                             ...     ...      ...   \n",
      "29995  Zurie s holey rustic olive and cheddar bread  267661       80   \n",
      "29996          Zwetschgenkuchen  bavarian plum cake  386977      240   \n",
      "29997   Zwiebelkuchen   southwest german onion cake  103312       75   \n",
      "29998                                   Zydeco soup  486161       60   \n",
      "29999        Cookies by design   cookies on a stick  298512       29   \n",
      "\n",
      "       contributor_id  submitted  n_steps  \\\n",
      "0               35193 2002-10-25      NaN   \n",
      "1               91970 2003-07-26      NaN   \n",
      "2                1533 2002-08-29      NaN   \n",
      "3               22724 2002-07-27      NaN   \n",
      "4                4470 2004-02-23      4.0   \n",
      "...               ...        ...      ...   \n",
      "29995          200862 2007-11-25     16.0   \n",
      "29996          177443 2009-08-24      NaN   \n",
      "29997          161745 2004-11-03      NaN   \n",
      "29998          227978 2012-08-29      NaN   \n",
      "29999          506822 2008-04-15      9.0   \n",
      "\n",
      "                                             description  n_ingredients  \\\n",
      "0      an original recipe created by chef scott meska...           18.0   \n",
      "1      my children and their friends ask for my homem...            NaN   \n",
      "2                these were so go, it surprised even me.            8.0   \n",
      "3      my sister-in-law made these for us at a family...            NaN   \n",
      "4      i think a fondue is a very romantic casual din...            NaN   \n",
      "...                                                  ...            ...   \n",
      "29995  this is based on a french recipe but i changed...           10.0   \n",
      "29996  this is a traditional fresh plum cake, thought...           11.0   \n",
      "29997  this is a traditional late summer early fall s...            NaN   \n",
      "29998  this is a delicious soup that i originally fou...            NaN   \n",
      "29999  i've heard of the 'cookies by design' company,...           10.0   \n",
      "\n",
      "       description_length  name_word_count  \n",
      "0                   330.0                8  \n",
      "1                   255.0                5  \n",
      "2                    39.0                7  \n",
      "3                   154.0                3  \n",
      "4                   587.0                8  \n",
      "...                   ...              ...  \n",
      "29995               484.0                8  \n",
      "29996               286.0                4  \n",
      "29997               311.0                5  \n",
      "29998               648.0                2  \n",
      "29999               125.0                7  \n",
      "\n",
      "[30000 rows x 10 columns]\n"
     ]
    }
   ],
   "source": [
    "recipes['name_word_count'] = recipes['name'].str.split().str.len()\n",
    "print(recipes)"
   ]
  },
  {
   "cell_type": "markdown",
   "metadata": {},
   "source": [
    "### Группировки таблиц `pd.DataFrame`"
   ]
  },
  {
   "cell_type": "markdown",
   "metadata": {},
   "source": [
    "4.1 Посчитайте количество рецептов, представленных каждым из участников (`contributor_id`). Какой участник добавил максимальное кол-во рецептов?"
   ]
  },
  {
   "cell_type": "code",
   "execution_count": 13,
   "metadata": {},
   "outputs": [
    {
     "name": "stdout",
     "output_type": "stream",
     "text": [
      "Id - 89831 рецептов - 421\n"
     ]
    }
   ],
   "source": [
    "count = recipes['contributor_id'].value_counts()\n",
    "max_id = count.idxmax()\n",
    "max_count = count.max()\n",
    "print(f\"Id - {max_id} рецептов - {max_count}\")"
   ]
  },
  {
   "cell_type": "markdown",
   "metadata": {},
   "source": [
    "4.2 Посчитайте средний рейтинг к каждому из рецептов. Для скольких рецептов отсутствуют отзывы? Обратите внимание, что отзыв с нулевым рейтингом или не заполненным текстовым описанием не считается отсутствующим."
   ]
  },
  {
   "cell_type": "code",
   "execution_count": 14,
   "metadata": {},
   "outputs": [
    {
     "name": "stdout",
     "output_type": "stream",
     "text": [
      "1900\n"
     ]
    }
   ],
   "source": [
    "rate = reviews.groupby('recipe_id')['rating'].mean()\n",
    "#print(rate)\n",
    "s_otzivami = reviews[reviews['rating'].notnull() & reviews['review'].notnull()]['recipe_id']\n",
    "bez_otzivov = len(recipes.index) - len(set(s_otzivami))\n",
    "print(bez_otzivov)"
   ]
  },
  {
   "cell_type": "markdown",
   "metadata": {},
   "source": [
    "4.3 Посчитайте количество рецептов с разбивкой по годам создания."
   ]
  },
  {
   "cell_type": "code",
   "execution_count": 15,
   "metadata": {},
   "outputs": [
    {
     "name": "stdout",
     "output_type": "stream",
     "text": [
      "submitted\n",
      "2007    4429\n",
      "2008    4029\n",
      "2006    3473\n",
      "2005    3130\n",
      "2009    2963\n",
      "2002    2644\n",
      "2003    2334\n",
      "2004    2153\n",
      "2010    1538\n",
      "2011     922\n",
      "2012     659\n",
      "2001     589\n",
      "2013     490\n",
      "1999     275\n",
      "2014     139\n",
      "2000     104\n",
      "2015      42\n",
      "2017      39\n",
      "2016      24\n",
      "2018      24\n",
      "Name: count, dtype: int64\n"
     ]
    }
   ],
   "source": [
    "years = recipes['submitted'].dt.year.value_counts()\n",
    "print(years)"
   ]
  },
  {
   "cell_type": "markdown",
   "metadata": {},
   "source": [
    "### Объединение таблиц `pd.DataFrame`"
   ]
  },
  {
   "cell_type": "markdown",
   "metadata": {},
   "source": [
    "5.1 При помощи объединения таблиц, создайте `DataFrame`, состоящий из четырех столбцов: `id`, `name`, `user_id`, `rating`. Рецепты, на которые не оставлен ни один отзыв, должны отсутствовать в полученной таблице. Подтвердите правильность работы вашего кода, выбрав рецепт, не имеющий отзывов, и попытавшись найти строку, соответствующую этому рецепту, в полученном `DataFrame`."
   ]
  },
  {
   "cell_type": "code",
   "execution_count": 18,
   "metadata": {},
   "outputs": [
    {
     "data": {
      "text/html": [
       "<div>\n",
       "<style scoped>\n",
       "    .dataframe tbody tr th:only-of-type {\n",
       "        vertical-align: middle;\n",
       "    }\n",
       "\n",
       "    .dataframe tbody tr th {\n",
       "        vertical-align: top;\n",
       "    }\n",
       "\n",
       "    .dataframe thead th {\n",
       "        text-align: right;\n",
       "    }\n",
       "</style>\n",
       "<table border=\"1\" class=\"dataframe\">\n",
       "  <thead>\n",
       "    <tr style=\"text-align: right;\">\n",
       "      <th></th>\n",
       "      <th>name</th>\n",
       "      <th>id</th>\n",
       "      <th>minutes</th>\n",
       "      <th>contributor_id</th>\n",
       "      <th>submitted</th>\n",
       "      <th>n_steps</th>\n",
       "      <th>description</th>\n",
       "      <th>n_ingredients</th>\n",
       "      <th>description_length</th>\n",
       "      <th>name_word_count</th>\n",
       "      <th>Индексы</th>\n",
       "      <th>user_id</th>\n",
       "      <th>recipe_id</th>\n",
       "      <th>date</th>\n",
       "      <th>rating</th>\n",
       "      <th>review</th>\n",
       "    </tr>\n",
       "  </thead>\n",
       "  <tbody>\n",
       "    <tr>\n",
       "      <th>0</th>\n",
       "      <td>George s at the cove  black bean soup</td>\n",
       "      <td>44123</td>\n",
       "      <td>90</td>\n",
       "      <td>35193</td>\n",
       "      <td>2002-10-25</td>\n",
       "      <td>NaN</td>\n",
       "      <td>an original recipe created by chef scott meska...</td>\n",
       "      <td>18.0</td>\n",
       "      <td>330.0</td>\n",
       "      <td>8</td>\n",
       "      <td>38296</td>\n",
       "      <td>743566</td>\n",
       "      <td>44123</td>\n",
       "      <td>2008-01-28</td>\n",
       "      <td>5</td>\n",
       "      <td>I lived in San Diego for 19 years and  would g...</td>\n",
       "    </tr>\n",
       "    <tr>\n",
       "      <th>1</th>\n",
       "      <td>George s at the cove  black bean soup</td>\n",
       "      <td>44123</td>\n",
       "      <td>90</td>\n",
       "      <td>35193</td>\n",
       "      <td>2002-10-25</td>\n",
       "      <td>NaN</td>\n",
       "      <td>an original recipe created by chef scott meska...</td>\n",
       "      <td>18.0</td>\n",
       "      <td>330.0</td>\n",
       "      <td>8</td>\n",
       "      <td>52065</td>\n",
       "      <td>76503</td>\n",
       "      <td>44123</td>\n",
       "      <td>2003-06-03</td>\n",
       "      <td>5</td>\n",
       "      <td>This soup is the Bomb! Don't hesitate to try.....</td>\n",
       "    </tr>\n",
       "    <tr>\n",
       "      <th>2</th>\n",
       "      <td>George s at the cove  black bean soup</td>\n",
       "      <td>44123</td>\n",
       "      <td>90</td>\n",
       "      <td>35193</td>\n",
       "      <td>2002-10-25</td>\n",
       "      <td>NaN</td>\n",
       "      <td>an original recipe created by chef scott meska...</td>\n",
       "      <td>18.0</td>\n",
       "      <td>330.0</td>\n",
       "      <td>8</td>\n",
       "      <td>67654</td>\n",
       "      <td>34206</td>\n",
       "      <td>44123</td>\n",
       "      <td>2003-03-23</td>\n",
       "      <td>5</td>\n",
       "      <td>I just can't say enough about how wonderful th...</td>\n",
       "    </tr>\n",
       "    <tr>\n",
       "      <th>3</th>\n",
       "      <td>Healthy for them  yogurt popsicles</td>\n",
       "      <td>67664</td>\n",
       "      <td>10</td>\n",
       "      <td>91970</td>\n",
       "      <td>2003-07-26</td>\n",
       "      <td>NaN</td>\n",
       "      <td>my children and their friends ask for my homem...</td>\n",
       "      <td>NaN</td>\n",
       "      <td>255.0</td>\n",
       "      <td>5</td>\n",
       "      <td>3337</td>\n",
       "      <td>494084</td>\n",
       "      <td>67664</td>\n",
       "      <td>2012-09-26</td>\n",
       "      <td>5</td>\n",
       "      <td>These are great!  I use 100% (organic) juice a...</td>\n",
       "    </tr>\n",
       "    <tr>\n",
       "      <th>4</th>\n",
       "      <td>Healthy for them  yogurt popsicles</td>\n",
       "      <td>67664</td>\n",
       "      <td>10</td>\n",
       "      <td>91970</td>\n",
       "      <td>2003-07-26</td>\n",
       "      <td>NaN</td>\n",
       "      <td>my children and their friends ask for my homem...</td>\n",
       "      <td>NaN</td>\n",
       "      <td>255.0</td>\n",
       "      <td>5</td>\n",
       "      <td>8955</td>\n",
       "      <td>303445</td>\n",
       "      <td>67664</td>\n",
       "      <td>2012-03-31</td>\n",
       "      <td>5</td>\n",
       "      <td>Very, very good.  My son loves these.  He like...</td>\n",
       "    </tr>\n",
       "  </tbody>\n",
       "</table>\n",
       "</div>"
      ],
      "text/plain": [
       "                                    name     id  minutes  contributor_id  \\\n",
       "0  George s at the cove  black bean soup  44123       90           35193   \n",
       "1  George s at the cove  black bean soup  44123       90           35193   \n",
       "2  George s at the cove  black bean soup  44123       90           35193   \n",
       "3     Healthy for them  yogurt popsicles  67664       10           91970   \n",
       "4     Healthy for them  yogurt popsicles  67664       10           91970   \n",
       "\n",
       "   submitted  n_steps                                        description  \\\n",
       "0 2002-10-25      NaN  an original recipe created by chef scott meska...   \n",
       "1 2002-10-25      NaN  an original recipe created by chef scott meska...   \n",
       "2 2002-10-25      NaN  an original recipe created by chef scott meska...   \n",
       "3 2003-07-26      NaN  my children and their friends ask for my homem...   \n",
       "4 2003-07-26      NaN  my children and their friends ask for my homem...   \n",
       "\n",
       "   n_ingredients  description_length  name_word_count  Индексы  user_id  \\\n",
       "0           18.0               330.0                8    38296   743566   \n",
       "1           18.0               330.0                8    52065    76503   \n",
       "2           18.0               330.0                8    67654    34206   \n",
       "3            NaN               255.0                5     3337   494084   \n",
       "4            NaN               255.0                5     8955   303445   \n",
       "\n",
       "   recipe_id        date  rating  \\\n",
       "0      44123  2008-01-28       5   \n",
       "1      44123  2003-06-03       5   \n",
       "2      44123  2003-03-23       5   \n",
       "3      67664  2012-09-26       5   \n",
       "4      67664  2012-03-31       5   \n",
       "\n",
       "                                              review  \n",
       "0  I lived in San Diego for 19 years and  would g...  \n",
       "1  This soup is the Bomb! Don't hesitate to try.....  \n",
       "2  I just can't say enough about how wonderful th...  \n",
       "3  These are great!  I use 100% (organic) juice a...  \n",
       "4  Very, very good.  My son loves these.  He like...  "
      ]
     },
     "execution_count": 18,
     "metadata": {},
     "output_type": "execute_result"
    }
   ],
   "source": [
    "merged_df = recipes.merge(reviews, left_on='id', right_on='recipe_id').loc[:, ['id', 'name', 'user_id', 'rating']]\n",
    "merged_df.head()\n",
    "\n",
    "merged_df = pd.merge(recipes, reviews, left_on='id', right_on='recipe_id')\n",
    "\n",
    "merged_df = merged_df.dropna(subset=['rating'])\n",
    "\n",
    "result_df = merged_df[['id', 'name', 'user_id', 'rating']]\n",
    "merged_df.head()"
   ]
  },
  {
   "cell_type": "markdown",
   "metadata": {},
   "source": [
    "5.2 При помощи объединения таблиц и группировок, создайте `DataFrame`, состоящий из трех столбцов: `recipe_id`, `name`, `review_count`, где столбец `review_count` содержит кол-во отзывов, оставленных на рецепт `recipe_id`. У рецептов, на которые не оставлен ни один отзыв, в столбце `review_count` должен быть указан 0. Подтвердите правильность работы вашего кода, выбрав рецепт, не имеющий отзывов, и найдя строку, соответствующую этому рецепту, в полученном `DataFrame`."
   ]
  },
  {
   "cell_type": "code",
   "execution_count": 19,
   "metadata": {},
   "outputs": [
    {
     "data": {
      "text/html": [
       "<div>\n",
       "<style scoped>\n",
       "    .dataframe tbody tr th:only-of-type {\n",
       "        vertical-align: middle;\n",
       "    }\n",
       "\n",
       "    .dataframe tbody tr th {\n",
       "        vertical-align: top;\n",
       "    }\n",
       "\n",
       "    .dataframe thead th {\n",
       "        text-align: right;\n",
       "    }\n",
       "</style>\n",
       "<table border=\"1\" class=\"dataframe\">\n",
       "  <thead>\n",
       "    <tr style=\"text-align: right;\">\n",
       "      <th></th>\n",
       "      <th>recipes_id</th>\n",
       "      <th>name</th>\n",
       "      <th>review_count</th>\n",
       "    </tr>\n",
       "  </thead>\n",
       "  <tbody>\n",
       "    <tr>\n",
       "      <th>48</th>\n",
       "      <td>95926</td>\n",
       "      <td>Say what   banana sandwich</td>\n",
       "      <td>2.0</td>\n",
       "    </tr>\n",
       "    <tr>\n",
       "      <th>55</th>\n",
       "      <td>95926</td>\n",
       "      <td>Say what   banana sandwich</td>\n",
       "      <td>4.0</td>\n",
       "    </tr>\n",
       "    <tr>\n",
       "      <th>66</th>\n",
       "      <td>306168</td>\n",
       "      <td>412 broccoli casserole</td>\n",
       "      <td>18.0</td>\n",
       "    </tr>\n",
       "    <tr>\n",
       "      <th>91</th>\n",
       "      <td>95534</td>\n",
       "      <td>Da best  chicago style italian beef</td>\n",
       "      <td>4.0</td>\n",
       "    </tr>\n",
       "    <tr>\n",
       "      <th>94</th>\n",
       "      <td>95534</td>\n",
       "      <td>Da best  chicago style italian beef</td>\n",
       "      <td>4.0</td>\n",
       "    </tr>\n",
       "  </tbody>\n",
       "</table>\n",
       "</div>"
      ],
      "text/plain": [
       "    recipes_id                                 name  review_count\n",
       "48       95926           Say what   banana sandwich           2.0\n",
       "55       95926           Say what   banana sandwich           4.0\n",
       "66      306168               412 broccoli casserole          18.0\n",
       "91       95534  Da best  chicago style italian beef           4.0\n",
       "94       95534  Da best  chicago style italian beef           4.0"
      ]
     },
     "execution_count": 19,
     "metadata": {},
     "output_type": "execute_result"
    }
   ],
   "source": [
    "merged_df['review_count'] = merged_df.groupby('id').count()['rating']\n",
    "merged_df = merged_df.dropna(subset=['review_count']).loc[:, ['id', 'name', 'review_count']].rename(columns={'id': 'recipes_id'})\n",
    "merged_df.head()"
   ]
  },
  {
   "cell_type": "markdown",
   "metadata": {},
   "source": [
    "5.3. Выясните, рецепты, добавленные в каком году, имеют наименьший средний рейтинг?"
   ]
  },
  {
   "cell_type": "code",
   "execution_count": null,
   "metadata": {},
   "outputs": [],
   "source": []
  },
  {
   "cell_type": "markdown",
   "metadata": {},
   "source": [
    "### Сохранение таблиц `pd.DataFrame`"
   ]
  },
  {
   "cell_type": "markdown",
   "metadata": {},
   "source": [
    "6.1 Отсортируйте таблицу в порядке убывания величины столбца `name_word_count` и сохраните результаты выполнения заданий 3.1-3.3 в csv файл. "
   ]
  },
  {
   "cell_type": "code",
   "execution_count": 23,
   "metadata": {},
   "outputs": [],
   "source": [
    "recipes.sort_values(['name_word_count']).to_csv('result_recipes.csv')\n",
    "reviews.to_csv('result_reviews.csv')"
   ]
  },
  {
   "cell_type": "markdown",
   "metadata": {},
   "source": [
    "6.2 Воспользовавшись `pd.ExcelWriter`, cохраните результаты 5.1 и 5.2 в файл: на лист с названием `Рецепты с оценками` сохраните результаты выполнения 5.1; на лист с названием `Количество отзывов по рецептам` сохраните результаты выполнения 5.2."
   ]
  },
  {
   "cell_type": "code",
   "execution_count": 27,
   "metadata": {},
   "outputs": [],
   "source": [
    "with pd.ExcelWriter('Рецепты с оценками.xlsx') as file:\n",
    "    merged_df.to_excel(file)"
   ]
  },
  {
   "cell_type": "markdown",
   "metadata": {},
   "source": [
    "#### [версия 2]\n",
    "* Уточнены формулировки задач 1.1, 3.3, 4.2, 5.1, 5.2, 5.3"
   ]
  },
  {
   "cell_type": "code",
   "execution_count": null,
   "metadata": {},
   "outputs": [],
   "source": []
  }
 ],
 "metadata": {
  "kernelspec": {
   "display_name": "Python 3 (ipykernel)",
   "language": "python",
   "name": "python3"
  },
  "language_info": {
   "codemirror_mode": {
    "name": "ipython",
    "version": 3
   },
   "file_extension": ".py",
   "mimetype": "text/x-python",
   "name": "python",
   "nbconvert_exporter": "python",
   "pygments_lexer": "ipython3",
   "version": "3.11.5"
  }
 },
 "nbformat": 4,
 "nbformat_minor": 4
}
